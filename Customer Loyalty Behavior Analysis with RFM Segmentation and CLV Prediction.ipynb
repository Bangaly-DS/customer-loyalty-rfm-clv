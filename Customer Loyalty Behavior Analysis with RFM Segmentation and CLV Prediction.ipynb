{
 "cells": [
  {
   "cell_type": "code",
   "execution_count": 1,
   "id": "4d0d93f9-1d1f-4664-803b-8e6985c07ccb",
   "metadata": {},
   "outputs": [
    {
     "data": {
      "text/html": [
       "<div>\n",
       "<style scoped>\n",
       "    .dataframe tbody tr th:only-of-type {\n",
       "        vertical-align: middle;\n",
       "    }\n",
       "\n",
       "    .dataframe tbody tr th {\n",
       "        vertical-align: top;\n",
       "    }\n",
       "\n",
       "    .dataframe thead th {\n",
       "        text-align: right;\n",
       "    }\n",
       "</style>\n",
       "<table border=\"1\" class=\"dataframe\">\n",
       "  <thead>\n",
       "    <tr style=\"text-align: right;\">\n",
       "      <th></th>\n",
       "      <th>Loyalty Number</th>\n",
       "      <th>Year</th>\n",
       "      <th>Month</th>\n",
       "      <th>Total Flights</th>\n",
       "      <th>Distance</th>\n",
       "      <th>Points Accumulated</th>\n",
       "      <th>Points Redeemed</th>\n",
       "      <th>Dollar Cost Points Redeemed</th>\n",
       "    </tr>\n",
       "  </thead>\n",
       "  <tbody>\n",
       "    <tr>\n",
       "      <th>0</th>\n",
       "      <td>100590</td>\n",
       "      <td>2018</td>\n",
       "      <td>6</td>\n",
       "      <td>12</td>\n",
       "      <td>15276</td>\n",
       "      <td>22914.0</td>\n",
       "      <td>0</td>\n",
       "      <td>0</td>\n",
       "    </tr>\n",
       "    <tr>\n",
       "      <th>1</th>\n",
       "      <td>100590</td>\n",
       "      <td>2018</td>\n",
       "      <td>7</td>\n",
       "      <td>12</td>\n",
       "      <td>9168</td>\n",
       "      <td>13752.0</td>\n",
       "      <td>0</td>\n",
       "      <td>0</td>\n",
       "    </tr>\n",
       "    <tr>\n",
       "      <th>2</th>\n",
       "      <td>100590</td>\n",
       "      <td>2018</td>\n",
       "      <td>5</td>\n",
       "      <td>4</td>\n",
       "      <td>6504</td>\n",
       "      <td>9756.0</td>\n",
       "      <td>0</td>\n",
       "      <td>0</td>\n",
       "    </tr>\n",
       "  </tbody>\n",
       "</table>\n",
       "</div>"
      ],
      "text/plain": [
       "   Loyalty Number  Year  Month  Total Flights  Distance  Points Accumulated  \\\n",
       "0          100590  2018      6             12     15276             22914.0   \n",
       "1          100590  2018      7             12      9168             13752.0   \n",
       "2          100590  2018      5              4      6504              9756.0   \n",
       "\n",
       "   Points Redeemed  Dollar Cost Points Redeemed  \n",
       "0                0                            0  \n",
       "1                0                            0  \n",
       "2                0                            0  "
      ]
     },
     "execution_count": 1,
     "metadata": {},
     "output_type": "execute_result"
    }
   ],
   "source": [
    "import pandas as pd\n",
    "\n",
    "df = pd.read_csv(\"Customer Flight Activity.csv\")\n",
    "df.head(3)"
   ]
  },
  {
   "cell_type": "markdown",
   "id": "29e77534-307c-4b6a-af2b-9d6c1e9204c8",
   "metadata": {},
   "source": [
    "## Data Preprocessing"
   ]
  },
  {
   "cell_type": "code",
   "execution_count": 2,
   "id": "b9676114-5380-45fc-a2b0-e63080d0dcf6",
   "metadata": {},
   "outputs": [],
   "source": [
    "# Creating a Date column from Year and Month\n",
    "df[\"Date\"] = pd.to_datetime(df[[\"Year\", \"Month\"]].assign(DAY = 1))"
   ]
  },
  {
   "cell_type": "code",
   "execution_count": 3,
   "id": "87cdf453-bdec-46aa-bf1e-9e181a218e99",
   "metadata": {},
   "outputs": [
    {
     "data": {
      "text/plain": [
       "Loyalty Number                 0\n",
       "Year                           0\n",
       "Month                          0\n",
       "Total Flights                  0\n",
       "Distance                       0\n",
       "Points Accumulated             0\n",
       "Points Redeemed                0\n",
       "Dollar Cost Points Redeemed    0\n",
       "Date                           0\n",
       "dtype: int64"
      ]
     },
     "execution_count": 3,
     "metadata": {},
     "output_type": "execute_result"
    }
   ],
   "source": [
    "# Checking for missing values\n",
    "df.isnull().sum()"
   ]
  },
  {
   "cell_type": "code",
   "execution_count": 4,
   "id": "6698ee61-218e-4426-8f8c-e3793b311943",
   "metadata": {},
   "outputs": [
    {
     "data": {
      "text/plain": [
       "np.int64(1922)"
      ]
     },
     "execution_count": 4,
     "metadata": {},
     "output_type": "execute_result"
    }
   ],
   "source": [
    "# Checking for duplicate rows\n",
    "df.duplicated().sum()"
   ]
  },
  {
   "cell_type": "code",
   "execution_count": 5,
   "id": "87d124e1-21b0-48d1-b10d-de17a797bed3",
   "metadata": {},
   "outputs": [
    {
     "data": {
      "text/html": [
       "<div>\n",
       "<style scoped>\n",
       "    .dataframe tbody tr th:only-of-type {\n",
       "        vertical-align: middle;\n",
       "    }\n",
       "\n",
       "    .dataframe tbody tr th {\n",
       "        vertical-align: top;\n",
       "    }\n",
       "\n",
       "    .dataframe thead th {\n",
       "        text-align: right;\n",
       "    }\n",
       "</style>\n",
       "<table border=\"1\" class=\"dataframe\">\n",
       "  <thead>\n",
       "    <tr style=\"text-align: right;\">\n",
       "      <th></th>\n",
       "      <th>Loyalty Number</th>\n",
       "      <th>Year</th>\n",
       "      <th>Month</th>\n",
       "      <th>Total Flights</th>\n",
       "      <th>Distance</th>\n",
       "      <th>Points Accumulated</th>\n",
       "      <th>Points Redeemed</th>\n",
       "      <th>Dollar Cost Points Redeemed</th>\n",
       "      <th>Date</th>\n",
       "    </tr>\n",
       "  </thead>\n",
       "  <tbody>\n",
       "    <tr>\n",
       "      <th>0</th>\n",
       "      <td>100590</td>\n",
       "      <td>2018</td>\n",
       "      <td>6</td>\n",
       "      <td>12</td>\n",
       "      <td>15276</td>\n",
       "      <td>22914.0</td>\n",
       "      <td>0</td>\n",
       "      <td>0</td>\n",
       "      <td>2018-06-01</td>\n",
       "    </tr>\n",
       "    <tr>\n",
       "      <th>1</th>\n",
       "      <td>100590</td>\n",
       "      <td>2018</td>\n",
       "      <td>7</td>\n",
       "      <td>12</td>\n",
       "      <td>9168</td>\n",
       "      <td>13752.0</td>\n",
       "      <td>0</td>\n",
       "      <td>0</td>\n",
       "      <td>2018-07-01</td>\n",
       "    </tr>\n",
       "    <tr>\n",
       "      <th>2</th>\n",
       "      <td>100590</td>\n",
       "      <td>2018</td>\n",
       "      <td>5</td>\n",
       "      <td>4</td>\n",
       "      <td>6504</td>\n",
       "      <td>9756.0</td>\n",
       "      <td>0</td>\n",
       "      <td>0</td>\n",
       "      <td>2018-05-01</td>\n",
       "    </tr>\n",
       "    <tr>\n",
       "      <th>3</th>\n",
       "      <td>100590</td>\n",
       "      <td>2018</td>\n",
       "      <td>10</td>\n",
       "      <td>0</td>\n",
       "      <td>0</td>\n",
       "      <td>0.0</td>\n",
       "      <td>512</td>\n",
       "      <td>92</td>\n",
       "      <td>2018-10-01</td>\n",
       "    </tr>\n",
       "    <tr>\n",
       "      <th>4</th>\n",
       "      <td>100590</td>\n",
       "      <td>2018</td>\n",
       "      <td>2</td>\n",
       "      <td>0</td>\n",
       "      <td>0</td>\n",
       "      <td>0.0</td>\n",
       "      <td>0</td>\n",
       "      <td>0</td>\n",
       "      <td>2018-02-01</td>\n",
       "    </tr>\n",
       "    <tr>\n",
       "      <th>...</th>\n",
       "      <td>...</td>\n",
       "      <td>...</td>\n",
       "      <td>...</td>\n",
       "      <td>...</td>\n",
       "      <td>...</td>\n",
       "      <td>...</td>\n",
       "      <td>...</td>\n",
       "      <td>...</td>\n",
       "      <td>...</td>\n",
       "    </tr>\n",
       "    <tr>\n",
       "      <th>392931</th>\n",
       "      <td>999986</td>\n",
       "      <td>2018</td>\n",
       "      <td>4</td>\n",
       "      <td>0</td>\n",
       "      <td>0</td>\n",
       "      <td>0.0</td>\n",
       "      <td>0</td>\n",
       "      <td>0</td>\n",
       "      <td>2018-04-01</td>\n",
       "    </tr>\n",
       "    <tr>\n",
       "      <th>392932</th>\n",
       "      <td>999986</td>\n",
       "      <td>2018</td>\n",
       "      <td>5</td>\n",
       "      <td>0</td>\n",
       "      <td>0</td>\n",
       "      <td>0.0</td>\n",
       "      <td>0</td>\n",
       "      <td>0</td>\n",
       "      <td>2018-05-01</td>\n",
       "    </tr>\n",
       "    <tr>\n",
       "      <th>392933</th>\n",
       "      <td>999986</td>\n",
       "      <td>2018</td>\n",
       "      <td>6</td>\n",
       "      <td>0</td>\n",
       "      <td>0</td>\n",
       "      <td>0.0</td>\n",
       "      <td>0</td>\n",
       "      <td>0</td>\n",
       "      <td>2018-06-01</td>\n",
       "    </tr>\n",
       "    <tr>\n",
       "      <th>392934</th>\n",
       "      <td>999986</td>\n",
       "      <td>2018</td>\n",
       "      <td>9</td>\n",
       "      <td>0</td>\n",
       "      <td>0</td>\n",
       "      <td>0.0</td>\n",
       "      <td>0</td>\n",
       "      <td>0</td>\n",
       "      <td>2018-09-01</td>\n",
       "    </tr>\n",
       "    <tr>\n",
       "      <th>392935</th>\n",
       "      <td>999986</td>\n",
       "      <td>2018</td>\n",
       "      <td>12</td>\n",
       "      <td>0</td>\n",
       "      <td>0</td>\n",
       "      <td>0.0</td>\n",
       "      <td>0</td>\n",
       "      <td>0</td>\n",
       "      <td>2018-12-01</td>\n",
       "    </tr>\n",
       "  </tbody>\n",
       "</table>\n",
       "<p>391014 rows × 9 columns</p>\n",
       "</div>"
      ],
      "text/plain": [
       "        Loyalty Number  Year  Month  Total Flights  Distance  \\\n",
       "0               100590  2018      6             12     15276   \n",
       "1               100590  2018      7             12      9168   \n",
       "2               100590  2018      5              4      6504   \n",
       "3               100590  2018     10              0         0   \n",
       "4               100590  2018      2              0         0   \n",
       "...                ...   ...    ...            ...       ...   \n",
       "392931          999986  2018      4              0         0   \n",
       "392932          999986  2018      5              0         0   \n",
       "392933          999986  2018      6              0         0   \n",
       "392934          999986  2018      9              0         0   \n",
       "392935          999986  2018     12              0         0   \n",
       "\n",
       "        Points Accumulated  Points Redeemed  Dollar Cost Points Redeemed  \\\n",
       "0                  22914.0                0                            0   \n",
       "1                  13752.0                0                            0   \n",
       "2                   9756.0                0                            0   \n",
       "3                      0.0              512                           92   \n",
       "4                      0.0                0                            0   \n",
       "...                    ...              ...                          ...   \n",
       "392931                 0.0                0                            0   \n",
       "392932                 0.0                0                            0   \n",
       "392933                 0.0                0                            0   \n",
       "392934                 0.0                0                            0   \n",
       "392935                 0.0                0                            0   \n",
       "\n",
       "             Date  \n",
       "0      2018-06-01  \n",
       "1      2018-07-01  \n",
       "2      2018-05-01  \n",
       "3      2018-10-01  \n",
       "4      2018-02-01  \n",
       "...           ...  \n",
       "392931 2018-04-01  \n",
       "392932 2018-05-01  \n",
       "392933 2018-06-01  \n",
       "392934 2018-09-01  \n",
       "392935 2018-12-01  \n",
       "\n",
       "[391014 rows x 9 columns]"
      ]
     },
     "execution_count": 5,
     "metadata": {},
     "output_type": "execute_result"
    }
   ],
   "source": [
    "# Removing duplicate rows\n",
    "df.drop_duplicates()"
   ]
  },
  {
   "cell_type": "code",
   "execution_count": 6,
   "id": "10dbdc71-9e0b-4bf1-b987-7ff9485472e8",
   "metadata": {},
   "outputs": [
    {
     "data": {
      "text/plain": [
       "np.int64(1922)"
      ]
     },
     "execution_count": 6,
     "metadata": {},
     "output_type": "execute_result"
    }
   ],
   "source": [
    "df.duplicated().sum()"
   ]
  },
  {
   "cell_type": "code",
   "execution_count": 7,
   "id": "8e1cbcc3-8709-4fed-8b3e-960eb2045539",
   "metadata": {},
   "outputs": [],
   "source": [
    "df.drop_duplicates(inplace = True)"
   ]
  },
  {
   "cell_type": "code",
   "execution_count": 8,
   "id": "b57d7be4-97c7-4c80-8691-8918d5ca50e8",
   "metadata": {},
   "outputs": [
    {
     "data": {
      "text/plain": [
       "np.int64(0)"
      ]
     },
     "execution_count": 8,
     "metadata": {},
     "output_type": "execute_result"
    }
   ],
   "source": [
    "df.duplicated().sum()"
   ]
  },
  {
   "cell_type": "code",
   "execution_count": 9,
   "id": "d7bbe914-506b-4994-a95b-a8678cd0f481",
   "metadata": {
    "scrolled": true
   },
   "outputs": [
    {
     "data": {
      "text/html": [
       "<div>\n",
       "<style scoped>\n",
       "    .dataframe tbody tr th:only-of-type {\n",
       "        vertical-align: middle;\n",
       "    }\n",
       "\n",
       "    .dataframe tbody tr th {\n",
       "        vertical-align: top;\n",
       "    }\n",
       "\n",
       "    .dataframe thead th {\n",
       "        text-align: right;\n",
       "    }\n",
       "</style>\n",
       "<table border=\"1\" class=\"dataframe\">\n",
       "  <thead>\n",
       "    <tr style=\"text-align: right;\">\n",
       "      <th></th>\n",
       "      <th>Loyalty Number</th>\n",
       "      <th>Year</th>\n",
       "      <th>Month</th>\n",
       "      <th>Total Flights</th>\n",
       "      <th>Distance</th>\n",
       "      <th>Points Accumulated</th>\n",
       "      <th>Points Redeemed</th>\n",
       "      <th>Dollar Cost Points Redeemed</th>\n",
       "      <th>Date</th>\n",
       "    </tr>\n",
       "  </thead>\n",
       "  <tbody>\n",
       "    <tr>\n",
       "      <th>count</th>\n",
       "      <td>391014.000000</td>\n",
       "      <td>391014.000000</td>\n",
       "      <td>391014.000000</td>\n",
       "      <td>391014.000000</td>\n",
       "      <td>391014.000000</td>\n",
       "      <td>391014.000000</td>\n",
       "      <td>391014.000000</td>\n",
       "      <td>391014.000000</td>\n",
       "      <td>391014</td>\n",
       "    </tr>\n",
       "    <tr>\n",
       "      <th>mean</th>\n",
       "      <td>550376.476648</td>\n",
       "      <td>2017.514038</td>\n",
       "      <td>6.514971</td>\n",
       "      <td>1.301253</td>\n",
       "      <td>1950.983205</td>\n",
       "      <td>2037.136759</td>\n",
       "      <td>31.458137</td>\n",
       "      <td>5.663362</td>\n",
       "      <td>2017-12-21 13:51:07.808313344</td>\n",
       "    </tr>\n",
       "    <tr>\n",
       "      <th>min</th>\n",
       "      <td>100018.000000</td>\n",
       "      <td>2017.000000</td>\n",
       "      <td>1.000000</td>\n",
       "      <td>0.000000</td>\n",
       "      <td>0.000000</td>\n",
       "      <td>0.000000</td>\n",
       "      <td>0.000000</td>\n",
       "      <td>0.000000</td>\n",
       "      <td>2017-01-01 00:00:00</td>\n",
       "    </tr>\n",
       "    <tr>\n",
       "      <th>25%</th>\n",
       "      <td>327498.000000</td>\n",
       "      <td>2017.000000</td>\n",
       "      <td>4.000000</td>\n",
       "      <td>0.000000</td>\n",
       "      <td>0.000000</td>\n",
       "      <td>0.000000</td>\n",
       "      <td>0.000000</td>\n",
       "      <td>0.000000</td>\n",
       "      <td>2017-07-01 00:00:00</td>\n",
       "    </tr>\n",
       "    <tr>\n",
       "      <th>50%</th>\n",
       "      <td>551710.000000</td>\n",
       "      <td>2018.000000</td>\n",
       "      <td>7.000000</td>\n",
       "      <td>0.000000</td>\n",
       "      <td>0.000000</td>\n",
       "      <td>0.000000</td>\n",
       "      <td>0.000000</td>\n",
       "      <td>0.000000</td>\n",
       "      <td>2018-01-01 00:00:00</td>\n",
       "    </tr>\n",
       "    <tr>\n",
       "      <th>75%</th>\n",
       "      <td>772152.000000</td>\n",
       "      <td>2018.000000</td>\n",
       "      <td>10.000000</td>\n",
       "      <td>2.000000</td>\n",
       "      <td>3040.000000</td>\n",
       "      <td>3060.000000</td>\n",
       "      <td>0.000000</td>\n",
       "      <td>0.000000</td>\n",
       "      <td>2018-07-01 00:00:00</td>\n",
       "    </tr>\n",
       "    <tr>\n",
       "      <th>max</th>\n",
       "      <td>999986.000000</td>\n",
       "      <td>2018.000000</td>\n",
       "      <td>12.000000</td>\n",
       "      <td>28.000000</td>\n",
       "      <td>67284.000000</td>\n",
       "      <td>100926.000000</td>\n",
       "      <td>876.000000</td>\n",
       "      <td>158.000000</td>\n",
       "      <td>2018-12-01 00:00:00</td>\n",
       "    </tr>\n",
       "    <tr>\n",
       "      <th>std</th>\n",
       "      <td>258621.151837</td>\n",
       "      <td>0.499804</td>\n",
       "      <td>3.445263</td>\n",
       "      <td>1.965387</td>\n",
       "      <td>3245.061634</td>\n",
       "      <td>3879.029192</td>\n",
       "      <td>126.945609</td>\n",
       "      <td>22.853705</td>\n",
       "      <td>NaN</td>\n",
       "    </tr>\n",
       "  </tbody>\n",
       "</table>\n",
       "</div>"
      ],
      "text/plain": [
       "       Loyalty Number           Year          Month  Total Flights  \\\n",
       "count   391014.000000  391014.000000  391014.000000  391014.000000   \n",
       "mean    550376.476648    2017.514038       6.514971       1.301253   \n",
       "min     100018.000000    2017.000000       1.000000       0.000000   \n",
       "25%     327498.000000    2017.000000       4.000000       0.000000   \n",
       "50%     551710.000000    2018.000000       7.000000       0.000000   \n",
       "75%     772152.000000    2018.000000      10.000000       2.000000   \n",
       "max     999986.000000    2018.000000      12.000000      28.000000   \n",
       "std     258621.151837       0.499804       3.445263       1.965387   \n",
       "\n",
       "            Distance  Points Accumulated  Points Redeemed  \\\n",
       "count  391014.000000       391014.000000    391014.000000   \n",
       "mean     1950.983205         2037.136759        31.458137   \n",
       "min         0.000000            0.000000         0.000000   \n",
       "25%         0.000000            0.000000         0.000000   \n",
       "50%         0.000000            0.000000         0.000000   \n",
       "75%      3040.000000         3060.000000         0.000000   \n",
       "max     67284.000000       100926.000000       876.000000   \n",
       "std      3245.061634         3879.029192       126.945609   \n",
       "\n",
       "       Dollar Cost Points Redeemed                           Date  \n",
       "count                391014.000000                         391014  \n",
       "mean                      5.663362  2017-12-21 13:51:07.808313344  \n",
       "min                       0.000000            2017-01-01 00:00:00  \n",
       "25%                       0.000000            2017-07-01 00:00:00  \n",
       "50%                       0.000000            2018-01-01 00:00:00  \n",
       "75%                       0.000000            2018-07-01 00:00:00  \n",
       "max                     158.000000            2018-12-01 00:00:00  \n",
       "std                      22.853705                            NaN  "
      ]
     },
     "execution_count": 9,
     "metadata": {},
     "output_type": "execute_result"
    }
   ],
   "source": [
    "# Viewing Basic Statistics\n",
    "df.describe()"
   ]
  },
  {
   "cell_type": "markdown",
   "id": "a649dd6a-ef38-4f13-aa34-28a6cb71c7f0",
   "metadata": {},
   "source": [
    "## EDA (Exploratory Data Analysis)"
   ]
  },
  {
   "cell_type": "markdown",
   "id": "534dc979-392b-4d98-ab52-1372ec48f521",
   "metadata": {},
   "source": [
    "### Total Points Accumulated vs.Redeemed"
   ]
  },
  {
   "cell_type": "code",
   "execution_count": 10,
   "id": "faed2259-8220-4f2d-b8fc-334ba4cfd6a7",
   "metadata": {},
   "outputs": [],
   "source": [
    "import matplotlib.pyplot as plt\n",
    "\n",
    "# Total points accumulated and redeemed\n",
    "total_accumulated = df[\"Points Accumulated\"].sum()\n",
    "total_redeemed = df[\"Points Redeemed\"].sum()"
   ]
  },
  {
   "cell_type": "code",
   "execution_count": 11,
   "id": "99c60ac5-08d5-439c-a5fb-45f13449164e",
   "metadata": {},
   "outputs": [
    {
     "data": {
      "image/png": "[encoded data removed]",
      "text/plain": [
       "<Figure size 600x400 with 1 Axes>"
      ]
     },
     "metadata": {},
     "output_type": "display_data"
    }
   ],
   "source": [
    "# Bar plot\n",
    "plt.figure(figsize = (6,4))\n",
    "plt.bar([\"Accumulated\", \"Redeemed\"], [total_accumulated, total_redeemed], color = [\"skyblue\", \"salmon\"])\n",
    "plt.title(\"Total Points: Accumulated vs Redeemed\")\n",
    "plt.ylabel(\"Points\")\n",
    "plt.show()"
   ]
  },
  {
   "cell_type": "markdown",
   "id": "77dd1bbc-3141-4148-b0af-a1dcd89194ff",
   "metadata": {},
   "source": [
    "### Points Behavior Over Time"
   ]
  },
  {
   "cell_type": "code",
   "execution_count": 12,
   "id": "554ef72f-f8a3-4e29-8a58-6951d5e01b80",
   "metadata": {},
   "outputs": [],
   "source": [
    "# Group by Date\n",
    "monthly_points = df.groupby(\"Date\")[[\"Points Accumulated\", \"Points Redeemed\"]].sum().reset_index()"
   ]
  },
  {
   "cell_type": "code",
   "execution_count": 13,
   "id": "c090f7a7-5adc-4865-a30f-834916e98a17",
   "metadata": {},
   "outputs": [
    {
     "data": {
      "image/png": "[encoded data removed]",
      "text/plain": [
       "<Figure size 1200x600 with 1 Axes>"
      ]
     },
     "metadata": {},
     "output_type": "display_data"
    }
   ],
   "source": [
    "# Plot over time\n",
    "plt.figure(figsize = (12, 6))\n",
    "plt.plot(monthly_points[\"Date\"], monthly_points[\"Points Accumulated\"], label = \"Points Accumulated\", color = \"skyblue\")\n",
    "plt.plot(monthly_points[\"Date\"], monthly_points[\"Points Redeemed\"], label = \"Points Redeemed\", color = \"salmon\")\n",
    "plt.title(\"Points Accumulated vs Points Redeemed Over Time\")\n",
    "plt.xlabel(\"Date\")\n",
    "plt.ylabel(\"Total Points\")\n",
    "plt.legend()\n",
    "plt.grid(True)\n",
    "plt.tight_layout()\n",
    "plt.show()"
   ]
  },
  {
   "cell_type": "raw",
   "id": "45dcc331-c364-48bd-8971-6c416afa725e",
   "metadata": {},
   "source": [
    "# Top Loyal Customers"
   ]
  },
  {
   "cell_type": "code",
   "execution_count": 14,
   "id": "54a6d371-c696-4e06-87f1-614f50af9eab",
   "metadata": {},
   "outputs": [
    {
     "name": "stdout",
     "output_type": "stream",
     "text": [
      "Top 10 Customers by Points Accumulated:\n",
      "       Loyalty Number  Points Accumulated  Total Flights\n",
      "10987          689839            268287.0             90\n",
      "14790          893866            252960.0             89\n",
      "7453           500248            238120.5             91\n",
      "613            133324            233815.5             93\n",
      "6884           471015            232176.0             82\n",
      "5289           385092            231432.0            102\n",
      "1867           201273            225346.5             89\n",
      "2028           208961            225282.0             87\n",
      "8478           556492            224673.0             95\n",
      "11412          712114            220048.5             83\n",
      "\n",
      "Top 10 Customers by Total Flights:\n",
      "       Loyalty Number  Points Accumulated  Total Flights\n",
      "4393           336882            144936.0            106\n",
      "13298          813455            205402.5            104\n",
      "5289           385092            231432.0            102\n",
      "16450          983416            205602.0            100\n",
      "11780          732304            209742.0             98\n",
      "191            110065            211386.0             97\n",
      "9796           625320            167472.0             96\n",
      "6757           464187            139783.0             96\n",
      "8478           556492            224673.0             95\n",
      "12628          775768            157231.0             94\n"
     ]
    }
   ],
   "source": [
    "# Group by Loyalty Number to get total points and flights per customer\n",
    "customer_totals = df.groupby('Loyalty Number')[['Points Accumulated', 'Total Flights']].sum().reset_index()\n",
    "\n",
    "# Top 10 customers by Points Accumulated\n",
    "top_by_points = customer_totals.sort_values(by='Points Accumulated', ascending=False).head(10)\n",
    "\n",
    "# Top 10 customers by Total Flights\n",
    "top_by_flights = customer_totals.sort_values(by='Total Flights', ascending=False).head(10)\n",
    "\n",
    "# Display results\n",
    "print(\"Top 10 Customers by Points Accumulated:\")\n",
    "print(top_by_points)\n",
    "\n",
    "print(\"\\nTop 10 Customers by Total Flights:\")\n",
    "print(top_by_flights)\n"
   ]
  },
  {
   "cell_type": "raw",
   "id": "dedb1968-0c10-41c6-8070-ba2a6cfd33f8",
   "metadata": {},
   "source": [
    "# Redemption Ratio"
   ]
  },
  {
   "cell_type": "code",
   "execution_count": 15,
   "id": "c52062f5-1542-4eb8-a9d2-bcb6dcc13587",
   "metadata": {},
   "outputs": [
    {
     "name": "stdout",
     "output_type": "stream",
     "text": [
      "Top 10 Customers by Redemption Ratio:\n",
      "       Loyalty Number  Points Accumulated  Points Redeemed  Redemption Ratio\n",
      "15797          949612               602.0              719          1.194352\n",
      "2025           208668               513.0              542          1.056530\n",
      "1049           157566              1333.0             1057          0.792948\n",
      "11427          713067               773.0              486          0.628719\n",
      "3962           314189              1134.0              706          0.622575\n",
      "14530          879416               966.0              589          0.609731\n",
      "11526          718454              1113.0              520          0.467206\n",
      "4831           360732               917.0              376          0.410033\n",
      "2350           226804              1363.0              552          0.404989\n",
      "4722           354206              1035.0              395          0.381643\n"
     ]
    }
   ],
   "source": [
    "# Group by customer and sum points\n",
    "customer_points = df.groupby(\"Loyalty Number\")[[\"Points Accumulated\", \"Points Redeemed\"]].sum().reset_index()\n",
    "\n",
    "# Avoid division by zero\n",
    "customer_points = customer_points[customer_points[\"Points Accumulated\"] > 0]\n",
    "\n",
    "# Calculate redemption ratio\n",
    "customer_points[\"Redemption Ratio\"] = customer_points[\"Points Redeemed\"] / customer_points[\"Points Accumulated\"]\n",
    "\n",
    "# Sort top 10 by Redemption Ratio\n",
    "top_redeemers = customer_points.sort_values(by = \"Redemption Ratio\", ascending = False).head(10)\n",
    "\n",
    "print(\"Top 10 Customers by Redemption Ratio:\")\n",
    "print(top_redeemers)"
   ]
  },
  {
   "cell_type": "code",
   "execution_count": 16,
   "id": "b9972e7f-6ac1-4401-8468-c6cbfea183c9",
   "metadata": {},
   "outputs": [
    {
     "data": {
      "image/png": "[encoded data removed]",
      "text/plain": [
       "<Figure size 1000x600 with 1 Axes>"
      ]
     },
     "metadata": {},
     "output_type": "display_data"
    }
   ],
   "source": [
    "plt.figure(figsize = (10, 6))\n",
    "plt.hist(customer_points[\"Redemption Ratio\"], bins = 30, color = \"mediumpurple\", edgecolor = \"black\")\n",
    "plt.title(\"Distribution of Redemption Ratios per Customer\")\n",
    "plt.xlabel(\"Redemption Ratio\")\n",
    "plt.ylabel(\"Number of Customers\")\n",
    "plt.grid(True)\n",
    "plt.tight_layout()\n",
    "plt.show()"
   ]
  },
  {
   "cell_type": "markdown",
   "id": "7ace3eed-7d58-4f83-acc8-893b42abc76e",
   "metadata": {},
   "source": [
    "## Customer Value Metrics"
   ]
  },
  {
   "cell_type": "markdown",
   "id": "25333842-162a-4bff-bec8-8c23cac0dcba",
   "metadata": {},
   "source": [
    "## Prepare RFM data"
   ]
  },
  {
   "cell_type": "code",
   "execution_count": 17,
   "id": "90638e3e-52da-49bd-abcc-2da3d7cd1f73",
   "metadata": {},
   "outputs": [],
   "source": [
    "# Setting a reference date for \"today\"\n",
    "reference_date = df[\"Date\"].max() + pd.Timedelta(days = 1)\n",
    "\n",
    "#Group by customer\n",
    "rfm = df.groupby(\"Loyalty Number\").agg({\"Date\": lambda x: (reference_date - x.max()).days, \"Total Flights\": \"sum\", \"Points Accumulated\": \"sum\"}).reset_index()\n",
    "\n",
    "# Rename columns\n",
    "rfm.columns = [\"Loyalty Number\", \"Recovery\", \"Frequency\", \"Monetary\"]"
   ]
  },
  {
   "cell_type": "code",
   "execution_count": 18,
   "id": "166a2a07-8c3a-45f8-ab9b-295996b6cbe5",
   "metadata": {
    "scrolled": true
   },
   "outputs": [
    {
     "data": {
      "text/html": [
       "<div>\n",
       "<style scoped>\n",
       "    .dataframe tbody tr th:only-of-type {\n",
       "        vertical-align: middle;\n",
       "    }\n",
       "\n",
       "    .dataframe tbody tr th {\n",
       "        vertical-align: top;\n",
       "    }\n",
       "\n",
       "    .dataframe thead th {\n",
       "        text-align: right;\n",
       "    }\n",
       "</style>\n",
       "<table border=\"1\" class=\"dataframe\">\n",
       "  <thead>\n",
       "    <tr style=\"text-align: right;\">\n",
       "      <th></th>\n",
       "      <th>Loyalty Number</th>\n",
       "      <th>Recovery</th>\n",
       "      <th>Frequency</th>\n",
       "      <th>Monetary</th>\n",
       "    </tr>\n",
       "  </thead>\n",
       "  <tbody>\n",
       "    <tr>\n",
       "      <th>0</th>\n",
       "      <td>100018</td>\n",
       "      <td>1</td>\n",
       "      <td>46</td>\n",
       "      <td>81190.0</td>\n",
       "    </tr>\n",
       "    <tr>\n",
       "      <th>1</th>\n",
       "      <td>100102</td>\n",
       "      <td>1</td>\n",
       "      <td>51</td>\n",
       "      <td>68918.0</td>\n",
       "    </tr>\n",
       "    <tr>\n",
       "      <th>2</th>\n",
       "      <td>100140</td>\n",
       "      <td>1</td>\n",
       "      <td>47</td>\n",
       "      <td>72856.0</td>\n",
       "    </tr>\n",
       "    <tr>\n",
       "      <th>3</th>\n",
       "      <td>100214</td>\n",
       "      <td>1</td>\n",
       "      <td>22</td>\n",
       "      <td>38236.0</td>\n",
       "    </tr>\n",
       "    <tr>\n",
       "      <th>4</th>\n",
       "      <td>100272</td>\n",
       "      <td>1</td>\n",
       "      <td>37</td>\n",
       "      <td>54997.0</td>\n",
       "    </tr>\n",
       "  </tbody>\n",
       "</table>\n",
       "</div>"
      ],
      "text/plain": [
       "   Loyalty Number  Recovery  Frequency  Monetary\n",
       "0          100018         1         46   81190.0\n",
       "1          100102         1         51   68918.0\n",
       "2          100140         1         47   72856.0\n",
       "3          100214         1         22   38236.0\n",
       "4          100272         1         37   54997.0"
      ]
     },
     "execution_count": 18,
     "metadata": {},
     "output_type": "execute_result"
    }
   ],
   "source": [
    "rfm.head()"
   ]
  },
  {
   "cell_type": "code",
   "execution_count": 19,
   "id": "d2cd3211-71e6-412e-b2d3-67ecc7086f85",
   "metadata": {},
   "outputs": [],
   "source": [
    "# Rename \"Recovery\" to \"Recency\"\n",
    "rfm.rename(columns={'Recovery': 'Recency'}, inplace=True)"
   ]
  },
  {
   "cell_type": "code",
   "execution_count": 20,
   "id": "03ae50d4-94a5-498e-8b9b-50a7dc49eaff",
   "metadata": {},
   "outputs": [
    {
     "data": {
      "text/html": [
       "<div>\n",
       "<style scoped>\n",
       "    .dataframe tbody tr th:only-of-type {\n",
       "        vertical-align: middle;\n",
       "    }\n",
       "\n",
       "    .dataframe tbody tr th {\n",
       "        vertical-align: top;\n",
       "    }\n",
       "\n",
       "    .dataframe thead th {\n",
       "        text-align: right;\n",
       "    }\n",
       "</style>\n",
       "<table border=\"1\" class=\"dataframe\">\n",
       "  <thead>\n",
       "    <tr style=\"text-align: right;\">\n",
       "      <th></th>\n",
       "      <th>Loyalty Number</th>\n",
       "      <th>Recency</th>\n",
       "      <th>Frequency</th>\n",
       "      <th>Monetary</th>\n",
       "    </tr>\n",
       "  </thead>\n",
       "  <tbody>\n",
       "    <tr>\n",
       "      <th>0</th>\n",
       "      <td>100018</td>\n",
       "      <td>1</td>\n",
       "      <td>46</td>\n",
       "      <td>81190.0</td>\n",
       "    </tr>\n",
       "    <tr>\n",
       "      <th>1</th>\n",
       "      <td>100102</td>\n",
       "      <td>1</td>\n",
       "      <td>51</td>\n",
       "      <td>68918.0</td>\n",
       "    </tr>\n",
       "    <tr>\n",
       "      <th>2</th>\n",
       "      <td>100140</td>\n",
       "      <td>1</td>\n",
       "      <td>47</td>\n",
       "      <td>72856.0</td>\n",
       "    </tr>\n",
       "    <tr>\n",
       "      <th>3</th>\n",
       "      <td>100214</td>\n",
       "      <td>1</td>\n",
       "      <td>22</td>\n",
       "      <td>38236.0</td>\n",
       "    </tr>\n",
       "    <tr>\n",
       "      <th>4</th>\n",
       "      <td>100272</td>\n",
       "      <td>1</td>\n",
       "      <td>37</td>\n",
       "      <td>54997.0</td>\n",
       "    </tr>\n",
       "  </tbody>\n",
       "</table>\n",
       "</div>"
      ],
      "text/plain": [
       "   Loyalty Number  Recency  Frequency  Monetary\n",
       "0          100018        1         46   81190.0\n",
       "1          100102        1         51   68918.0\n",
       "2          100140        1         47   72856.0\n",
       "3          100214        1         22   38236.0\n",
       "4          100272        1         37   54997.0"
      ]
     },
     "execution_count": 20,
     "metadata": {},
     "output_type": "execute_result"
    }
   ],
   "source": [
    "rfm.head()"
   ]
  },
  {
   "cell_type": "markdown",
   "id": "dc9e15d4-de75-4e24-ab03-0de271a7a96d",
   "metadata": {},
   "source": [
    "### Score RFM values (1 to 5 scale)"
   ]
  },
  {
   "cell_type": "raw",
   "id": "63efaee7-70d2-4004-b66d-26dbb1b1bf04",
   "metadata": {},
   "source": [
    "# RFM Score"
   ]
  },
  {
   "cell_type": "code",
   "execution_count": 21,
   "id": "93cecf4a-85a4-4a38-9886-306435584c80",
   "metadata": {},
   "outputs": [],
   "source": [
    "# Recency score (lower recency = more recent = higher score)\n",
    "rfm[\"R_Score\"] = pd.cut(rfm[\"Recency\"].rank(method = \"first\"), bins = 5, labels = [5, 4, 3, 2, 1]).astype(int)\n",
    "\n",
    "# Frequency score (more flights = higher score)\n",
    "rfm[\"F_Score\"] = pd.cut(rfm[\"Frequency\"].rank(method = \"first\"), bins = 5, labels = [1, 2, 3, 4, 5]).astype(int)\n",
    "\n",
    "# Monetary score (more points = higher score)\n",
    "rfm[\"M_Score\"] = pd.cut(rfm[\"Monetary\"].rank(method = \"first\"), bins = 5, labels = [1, 2, 3, 4, 5]).astype(int)\n",
    "\n",
    "# Combine into one RFM Score\n",
    "rfm[\"RFM_Score\"] = rfm[\"R_Score\"].astype(str) + rfm[\"F_Score\"].astype(str) + rfm[\"M_Score\"].astype(str)"
   ]
  },
  {
   "cell_type": "code",
   "execution_count": 22,
   "id": "01968f58-ff12-4982-8277-f8078d4a3f4c",
   "metadata": {},
   "outputs": [
    {
     "data": {
      "text/html": [
       "<div>\n",
       "<style scoped>\n",
       "    .dataframe tbody tr th:only-of-type {\n",
       "        vertical-align: middle;\n",
       "    }\n",
       "\n",
       "    .dataframe tbody tr th {\n",
       "        vertical-align: top;\n",
       "    }\n",
       "\n",
       "    .dataframe thead th {\n",
       "        text-align: right;\n",
       "    }\n",
       "</style>\n",
       "<table border=\"1\" class=\"dataframe\">\n",
       "  <thead>\n",
       "    <tr style=\"text-align: right;\">\n",
       "      <th></th>\n",
       "      <th>Loyalty Number</th>\n",
       "      <th>Recency</th>\n",
       "      <th>Frequency</th>\n",
       "      <th>Monetary</th>\n",
       "      <th>R_Score</th>\n",
       "      <th>F_Score</th>\n",
       "      <th>M_Score</th>\n",
       "      <th>RFM_Score</th>\n",
       "    </tr>\n",
       "  </thead>\n",
       "  <tbody>\n",
       "    <tr>\n",
       "      <th>0</th>\n",
       "      <td>100018</td>\n",
       "      <td>1</td>\n",
       "      <td>46</td>\n",
       "      <td>81190.0</td>\n",
       "      <td>5</td>\n",
       "      <td>5</td>\n",
       "      <td>5</td>\n",
       "      <td>555</td>\n",
       "    </tr>\n",
       "    <tr>\n",
       "      <th>1</th>\n",
       "      <td>100102</td>\n",
       "      <td>1</td>\n",
       "      <td>51</td>\n",
       "      <td>68918.0</td>\n",
       "      <td>5</td>\n",
       "      <td>5</td>\n",
       "      <td>5</td>\n",
       "      <td>555</td>\n",
       "    </tr>\n",
       "    <tr>\n",
       "      <th>2</th>\n",
       "      <td>100140</td>\n",
       "      <td>1</td>\n",
       "      <td>47</td>\n",
       "      <td>72856.0</td>\n",
       "      <td>5</td>\n",
       "      <td>5</td>\n",
       "      <td>5</td>\n",
       "      <td>555</td>\n",
       "    </tr>\n",
       "    <tr>\n",
       "      <th>3</th>\n",
       "      <td>100214</td>\n",
       "      <td>1</td>\n",
       "      <td>22</td>\n",
       "      <td>38236.0</td>\n",
       "      <td>5</td>\n",
       "      <td>2</td>\n",
       "      <td>2</td>\n",
       "      <td>522</td>\n",
       "    </tr>\n",
       "    <tr>\n",
       "      <th>4</th>\n",
       "      <td>100272</td>\n",
       "      <td>1</td>\n",
       "      <td>37</td>\n",
       "      <td>54997.0</td>\n",
       "      <td>5</td>\n",
       "      <td>3</td>\n",
       "      <td>3</td>\n",
       "      <td>533</td>\n",
       "    </tr>\n",
       "  </tbody>\n",
       "</table>\n",
       "</div>"
      ],
      "text/plain": [
       "   Loyalty Number  Recency  Frequency  Monetary  R_Score  F_Score  M_Score  \\\n",
       "0          100018        1         46   81190.0        5        5        5   \n",
       "1          100102        1         51   68918.0        5        5        5   \n",
       "2          100140        1         47   72856.0        5        5        5   \n",
       "3          100214        1         22   38236.0        5        2        2   \n",
       "4          100272        1         37   54997.0        5        3        3   \n",
       "\n",
       "  RFM_Score  \n",
       "0       555  \n",
       "1       555  \n",
       "2       555  \n",
       "3       522  \n",
       "4       533  "
      ]
     },
     "execution_count": 22,
     "metadata": {},
     "output_type": "execute_result"
    }
   ],
   "source": [
    "rfm.head()"
   ]
  },
  {
   "cell_type": "markdown",
   "id": "485957b2-ecff-4548-b015-11ce95631c48",
   "metadata": {},
   "source": [
    "### Segmenting Customers Based on RFM Score"
   ]
  },
  {
   "cell_type": "code",
   "execution_count": 23,
   "id": "618f7382-2445-4757-97ce-3240fd79a008",
   "metadata": {},
   "outputs": [],
   "source": [
    "# Defining function to map RFM Score to segments\n",
    "def segment_customer(score):\n",
    "    if score == \"555\":\n",
    "        return \"Champion\"\n",
    "    elif score[0] == \"5\":\n",
    "        return \"Loyal\"\n",
    "    elif score[1] == \"5\":\n",
    "        return \"Frequent Flyer\"\n",
    "    elif score[2] == \"5\":\n",
    "        return \"High Spender\"\n",
    "    elif score in [\"311\", \"211\", \"111\"]:\n",
    "        return \"At Risk\"\n",
    "    else:\n",
    "        return \"Other\""
   ]
  },
  {
   "cell_type": "code",
   "execution_count": 24,
   "id": "56b9b89d-4243-40e8-8b22-c9b5ed3832eb",
   "metadata": {},
   "outputs": [],
   "source": [
    "# Applying segmentation\n",
    "rfm[\"Segment\"] = rfm[\"RFM_Score\"].apply(segment_customer)"
   ]
  },
  {
   "cell_type": "code",
   "execution_count": 25,
   "id": "3de5bd34-e0fb-4cdf-8c28-378ba183f168",
   "metadata": {},
   "outputs": [
    {
     "data": {
      "text/plain": [
       "Segment\n",
       "Other             8127\n",
       "Loyal             2847\n",
       "Frequent Flyer    2690\n",
       "At Risk           1937\n",
       "High Spender       635\n",
       "Champion           501\n",
       "Name: count, dtype: int64"
      ]
     },
     "execution_count": 25,
     "metadata": {},
     "output_type": "execute_result"
    }
   ],
   "source": [
    "# Show segment distribution\n",
    "rfm[\"Segment\"].value_counts()"
   ]
  },
  {
   "cell_type": "code",
   "execution_count": 26,
   "id": "e23d0c19-50c7-4ca2-8fa0-e5dd6e7ad6f9",
   "metadata": {},
   "outputs": [
    {
     "name": "stderr",
     "output_type": "stream",
     "text": [
      "C:\\Users\\USER\\AppData\\Local\\Temp\\ipykernel_8248\\2968207206.py:4: FutureWarning: \n",
      "\n",
      "Passing `palette` without assigning `hue` is deprecated and will be removed in v0.14.0. Assign the `x` variable to `hue` and set `legend=False` for the same effect.\n",
      "\n",
      "  sn.countplot(data = rfm, x = \"Segment\", order = rfm[\"Segment\"].value_counts().index, palette= \"Set2\")\n"
     ]
    },
    {
     "data": {
      "image/png": "[encoded data removed]",
      "text/plain": [
       "<Figure size 1000x600 with 1 Axes>"
      ]
     },
     "metadata": {},
     "output_type": "display_data"
    }
   ],
   "source": [
    "import seaborn as sn\n",
    "\n",
    "plt.figure(figsize=(10, 6))\n",
    "sn.countplot(data = rfm, x = \"Segment\", order = rfm[\"Segment\"].value_counts().index, palette= \"Set2\")\n",
    "plt.title(\"Customer Segments Based on RFM Analysis\")\n",
    "plt.ylabel(\"Number of Customers\")\n",
    "plt.xlabel(\"Segment\")\n",
    "plt.xticks(rotation = 45)\n",
    "plt.tight_layout()\n",
    "plt.show()"
   ]
  },
  {
   "cell_type": "markdown",
   "id": "a8969bff-a1f1-462a-a06e-a876a0f86707",
   "metadata": {},
   "source": [
    "## Calculating CLV"
   ]
  },
  {
   "cell_type": "markdown",
   "id": "9edceccc-2d8f-4b83-a7e2-f5cc6baae99f",
   "metadata": {},
   "source": [
    "### Calculating Average points per Flight + CLV"
   ]
  },
  {
   "cell_type": "code",
   "execution_count": 27,
   "id": "8f12b335-187d-4887-ae66-5d2c02004b33",
   "metadata": {},
   "outputs": [
    {
     "data": {
      "text/html": [
       "<div>\n",
       "<style scoped>\n",
       "    .dataframe tbody tr th:only-of-type {\n",
       "        vertical-align: middle;\n",
       "    }\n",
       "\n",
       "    .dataframe tbody tr th {\n",
       "        vertical-align: top;\n",
       "    }\n",
       "\n",
       "    .dataframe thead th {\n",
       "        text-align: right;\n",
       "    }\n",
       "</style>\n",
       "<table border=\"1\" class=\"dataframe\">\n",
       "  <thead>\n",
       "    <tr style=\"text-align: right;\">\n",
       "      <th></th>\n",
       "      <th>Loyalty Number</th>\n",
       "      <th>Frequency</th>\n",
       "      <th>Monetary</th>\n",
       "      <th>Avg_Points_Per_Flight</th>\n",
       "      <th>CLV</th>\n",
       "    </tr>\n",
       "  </thead>\n",
       "  <tbody>\n",
       "    <tr>\n",
       "      <th>0</th>\n",
       "      <td>100018</td>\n",
       "      <td>46</td>\n",
       "      <td>81190.0</td>\n",
       "      <td>1765.000000</td>\n",
       "      <td>81190.0</td>\n",
       "    </tr>\n",
       "    <tr>\n",
       "      <th>1</th>\n",
       "      <td>100102</td>\n",
       "      <td>51</td>\n",
       "      <td>68918.0</td>\n",
       "      <td>1351.333333</td>\n",
       "      <td>68918.0</td>\n",
       "    </tr>\n",
       "    <tr>\n",
       "      <th>2</th>\n",
       "      <td>100140</td>\n",
       "      <td>47</td>\n",
       "      <td>72856.0</td>\n",
       "      <td>1550.127660</td>\n",
       "      <td>72856.0</td>\n",
       "    </tr>\n",
       "    <tr>\n",
       "      <th>3</th>\n",
       "      <td>100214</td>\n",
       "      <td>22</td>\n",
       "      <td>38236.0</td>\n",
       "      <td>1738.000000</td>\n",
       "      <td>38236.0</td>\n",
       "    </tr>\n",
       "    <tr>\n",
       "      <th>4</th>\n",
       "      <td>100272</td>\n",
       "      <td>37</td>\n",
       "      <td>54997.0</td>\n",
       "      <td>1486.405405</td>\n",
       "      <td>54997.0</td>\n",
       "    </tr>\n",
       "  </tbody>\n",
       "</table>\n",
       "</div>"
      ],
      "text/plain": [
       "   Loyalty Number  Frequency  Monetary  Avg_Points_Per_Flight      CLV\n",
       "0          100018         46   81190.0            1765.000000  81190.0\n",
       "1          100102         51   68918.0            1351.333333  68918.0\n",
       "2          100140         47   72856.0            1550.127660  72856.0\n",
       "3          100214         22   38236.0            1738.000000  38236.0\n",
       "4          100272         37   54997.0            1486.405405  54997.0"
      ]
     },
     "execution_count": 27,
     "metadata": {},
     "output_type": "execute_result"
    }
   ],
   "source": [
    "# Calculating average points per flight per customer\n",
    "rfm[\"Avg_Points_Per_Flight\"] = rfm[\"Monetary\"] / rfm[\"Frequency\"]\n",
    "\n",
    "# Calculating CLV\n",
    "rfm[\"CLV\"] = rfm[\"Avg_Points_Per_Flight\"] * rfm[\"Frequency\"]\n",
    "\n",
    "rfm[[\"Loyalty Number\", \"Frequency\", \"Monetary\", \"Avg_Points_Per_Flight\", \"CLV\"]].head()"
   ]
  },
  {
   "cell_type": "code",
   "execution_count": 28,
   "id": "934b38d6-412d-4362-bb78-c7ae27fa57bc",
   "metadata": {},
   "outputs": [],
   "source": [
    "# Defining function again\n",
    "def segment_customer(score):\n",
    "    if score == \"555\":\n",
    "        return \"Champion\"\n",
    "    elif score[0] == \"5\":\n",
    "        return \"Loyal\"\n",
    "    elif score[1] == \"5\":\n",
    "        return \"Frequent Flyer\"\n",
    "    elif score[2] == \"5\":\n",
    "        return \"High Spender\"\n",
    "    elif score in [\"311\", \"211\", \"111\"]:\n",
    "        return \"At Risk\"\n",
    "    else:\n",
    "        return \"Other\"\n",
    "        \n",
    "# Reapply it\n",
    "rfm[\"Segment\"] = rfm[\"RFM_Score\"].apply(segment_customer)"
   ]
  },
  {
   "cell_type": "code",
   "execution_count": 29,
   "id": "2536f3d9-d1ca-4a16-8b2d-66e7dd5e4574",
   "metadata": {},
   "outputs": [
    {
     "data": {
      "text/html": [
       "<div>\n",
       "<style scoped>\n",
       "    .dataframe tbody tr th:only-of-type {\n",
       "        vertical-align: middle;\n",
       "    }\n",
       "\n",
       "    .dataframe tbody tr th {\n",
       "        vertical-align: top;\n",
       "    }\n",
       "\n",
       "    .dataframe thead th {\n",
       "        text-align: right;\n",
       "    }\n",
       "</style>\n",
       "<table border=\"1\" class=\"dataframe\">\n",
       "  <thead>\n",
       "    <tr style=\"text-align: right;\">\n",
       "      <th></th>\n",
       "      <th>Loyalty Number</th>\n",
       "      <th>CLV</th>\n",
       "      <th>Segment</th>\n",
       "    </tr>\n",
       "  </thead>\n",
       "  <tbody>\n",
       "    <tr>\n",
       "      <th>10987</th>\n",
       "      <td>689839</td>\n",
       "      <td>268287.0</td>\n",
       "      <td>Frequent Flyer</td>\n",
       "    </tr>\n",
       "    <tr>\n",
       "      <th>14790</th>\n",
       "      <td>893866</td>\n",
       "      <td>252960.0</td>\n",
       "      <td>Frequent Flyer</td>\n",
       "    </tr>\n",
       "    <tr>\n",
       "      <th>7453</th>\n",
       "      <td>500248</td>\n",
       "      <td>238120.5</td>\n",
       "      <td>Frequent Flyer</td>\n",
       "    </tr>\n",
       "    <tr>\n",
       "      <th>613</th>\n",
       "      <td>133324</td>\n",
       "      <td>233815.5</td>\n",
       "      <td>Champion</td>\n",
       "    </tr>\n",
       "    <tr>\n",
       "      <th>6884</th>\n",
       "      <td>471015</td>\n",
       "      <td>232176.0</td>\n",
       "      <td>Frequent Flyer</td>\n",
       "    </tr>\n",
       "    <tr>\n",
       "      <th>5289</th>\n",
       "      <td>385092</td>\n",
       "      <td>231432.0</td>\n",
       "      <td>Frequent Flyer</td>\n",
       "    </tr>\n",
       "    <tr>\n",
       "      <th>1867</th>\n",
       "      <td>201273</td>\n",
       "      <td>225346.5</td>\n",
       "      <td>Champion</td>\n",
       "    </tr>\n",
       "    <tr>\n",
       "      <th>2028</th>\n",
       "      <td>208961</td>\n",
       "      <td>225282.0</td>\n",
       "      <td>Champion</td>\n",
       "    </tr>\n",
       "    <tr>\n",
       "      <th>8478</th>\n",
       "      <td>556492</td>\n",
       "      <td>224673.0</td>\n",
       "      <td>Frequent Flyer</td>\n",
       "    </tr>\n",
       "    <tr>\n",
       "      <th>11412</th>\n",
       "      <td>712114</td>\n",
       "      <td>220048.5</td>\n",
       "      <td>Frequent Flyer</td>\n",
       "    </tr>\n",
       "  </tbody>\n",
       "</table>\n",
       "</div>"
      ],
      "text/plain": [
       "       Loyalty Number       CLV         Segment\n",
       "10987          689839  268287.0  Frequent Flyer\n",
       "14790          893866  252960.0  Frequent Flyer\n",
       "7453           500248  238120.5  Frequent Flyer\n",
       "613            133324  233815.5        Champion\n",
       "6884           471015  232176.0  Frequent Flyer\n",
       "5289           385092  231432.0  Frequent Flyer\n",
       "1867           201273  225346.5        Champion\n",
       "2028           208961  225282.0        Champion\n",
       "8478           556492  224673.0  Frequent Flyer\n",
       "11412          712114  220048.5  Frequent Flyer"
      ]
     },
     "execution_count": 29,
     "metadata": {},
     "output_type": "execute_result"
    }
   ],
   "source": [
    "top_clv = rfm.sort_values(by = \"CLV\", ascending = False).loc[:, [\"Loyalty Number\", \"CLV\", \"Segment\"]]\n",
    "top_clv.head(10)"
   ]
  },
  {
   "cell_type": "code",
   "execution_count": 30,
   "id": "dcaeeaef-8eb2-49f9-a282-2f55f2f25b07",
   "metadata": {},
   "outputs": [
    {
     "name": "stderr",
     "output_type": "stream",
     "text": [
      "C:\\Users\\USER\\AppData\\Local\\Temp\\ipykernel_8248\\1610420523.py:3: FutureWarning: \n",
      "\n",
      "The `ci` parameter is deprecated. Use `errorbar=None` for the same effect.\n",
      "\n",
      "  sn.barplot(data = rfm, x = \"Segment\", y = \"CLV\", estimator = \"mean\", ci = None, palette = \"viridis\")\n",
      "C:\\Users\\USER\\AppData\\Local\\Temp\\ipykernel_8248\\1610420523.py:3: FutureWarning: \n",
      "\n",
      "Passing `palette` without assigning `hue` is deprecated and will be removed in v0.14.0. Assign the `x` variable to `hue` and set `legend=False` for the same effect.\n",
      "\n",
      "  sn.barplot(data = rfm, x = \"Segment\", y = \"CLV\", estimator = \"mean\", ci = None, palette = \"viridis\")\n"
     ]
    },
    {
     "data": {
      "image/png": "[encoded data removed]",
      "text/plain": [
       "<Figure size 1000x600 with 1 Axes>"
      ]
     },
     "metadata": {},
     "output_type": "display_data"
    }
   ],
   "source": [
    "# Average CLV by Segment\n",
    "plt.figure(figsize = (10, 6))\n",
    "sn.barplot(data = rfm, x = \"Segment\", y = \"CLV\", estimator = \"mean\", ci = None, palette = \"viridis\")\n",
    "plt.title(\"Average CLV by Customer Segment\")\n",
    "plt.ylabel(\"Average CLV (Points)\")\n",
    "plt.xticks(rotation = 45)\n",
    "plt.tight_layout()\n",
    "plt.show()"
   ]
  },
  {
   "cell_type": "markdown",
   "id": "a4f8203a-13b8-4805-8589-3062fa2b5b2a",
   "metadata": {},
   "source": [
    "## Predicting Customer Lifetime Value (CLV) with Regression"
   ]
  },
  {
   "cell_type": "markdown",
   "id": "e13d361b-e10b-4add-838f-ee848b198bb6",
   "metadata": {},
   "source": [
    "### Preparing Data for Modeling"
   ]
  },
  {
   "cell_type": "code",
   "execution_count": 31,
   "id": "fcd3af35-e35d-4920-b7c0-d4582337d1f1",
   "metadata": {},
   "outputs": [],
   "source": [
    "from sklearn.model_selection import train_test_split\n",
    "from sklearn.linear_model import LinearRegression\n",
    "from sklearn.metrics import r2_score, mean_squared_error\n",
    "\n",
    "# Features and target\n",
    "X = rfm[[\"Frequency\", \"Monetary\", \"R_Score\", \"F_Score\", \"M_Score\"]]\n",
    "y = rfm[\"CLV\"]\n",
    "\n",
    "# Train-test split\n",
    "X_train, X_test, y_train, y_test = train_test_split(X, y, test_size = 0.2, random_state =42)"
   ]
  },
  {
   "cell_type": "code",
   "execution_count": 32,
   "id": "0c85babc-7370-466d-a7d2-aaa7ab57e1ac",
   "metadata": {},
   "outputs": [
    {
     "data": {
      "text/plain": [
       "np.int64(1570)"
      ]
     },
     "execution_count": 32,
     "metadata": {},
     "output_type": "execute_result"
    }
   ],
   "source": [
    "rfm[\"CLV\"].isnull().sum()"
   ]
  },
  {
   "cell_type": "code",
   "execution_count": 33,
   "id": "0c69f834-bc45-462f-8965-936e8c31e654",
   "metadata": {},
   "outputs": [],
   "source": [
    "# Dropping rows where CLV is NaN\n",
    "rfm = rfm.dropna(subset = [\"CLV\"])"
   ]
  },
  {
   "cell_type": "code",
   "execution_count": 34,
   "id": "9e0307e8-e77d-4620-b02c-23ddc42d43fa",
   "metadata": {},
   "outputs": [],
   "source": [
    "X = rfm[[\"Frequency\", \"Monetary\", \"R_Score\", \"F_Score\", \"M_Score\"]]\n",
    "y = rfm[\"CLV\"]"
   ]
  },
  {
   "cell_type": "code",
   "execution_count": 38,
   "id": "e57010c4-7b35-4367-8d30-740b5b1402b0",
   "metadata": {},
   "outputs": [
    {
     "name": "stdout",
     "output_type": "stream",
     "text": [
      "0\n"
     ]
    }
   ],
   "source": [
    "print(rfm[\"CLV\"].isnull().sum())"
   ]
  },
  {
   "cell_type": "code",
   "execution_count": 39,
   "id": "69027218-75ac-4586-85ee-c3047380f2b1",
   "metadata": {},
   "outputs": [],
   "source": [
    "rfm = rfm.dropna(subset = [\"CLV\"]).reset_index(drop = True)"
   ]
  },
  {
   "cell_type": "code",
   "execution_count": 40,
   "id": "57c8123b-cd32-4f93-9711-d1c4380288b8",
   "metadata": {},
   "outputs": [],
   "source": [
    "X = rfm[[\"Frequency\", \"Monetary\", \"R_Score\", \"F_Score\", \"M_Score\"]]\n",
    "y = rfm[\"CLV\"]"
   ]
  },
  {
   "cell_type": "code",
   "execution_count": 41,
   "id": "4fb7e6aa-6ecf-4939-951a-a54461899d8a",
   "metadata": {},
   "outputs": [
    {
     "name": "stdout",
     "output_type": "stream",
     "text": [
      "0\n"
     ]
    }
   ],
   "source": [
    "print(y.isnull().sum())"
   ]
  },
  {
   "cell_type": "code",
   "execution_count": 42,
   "id": "d44f9fee-84f2-47dd-b979-18868be306d8",
   "metadata": {},
   "outputs": [],
   "source": [
    "X_train, X_test, y_train, y_test = train_test_split(X, y, test_size = 0.2, random_state =42)"
   ]
  },
  {
   "cell_type": "code",
   "execution_count": 43,
   "id": "10e9e1e1-1bab-43e1-a066-af671f134b28",
   "metadata": {},
   "outputs": [
    {
     "name": "stdout",
     "output_type": "stream",
     "text": [
      "$R^2$ Score: 1.0000\n",
      "Mean Squared Error: 0.00\n"
     ]
    }
   ],
   "source": [
    "# Initializing and training model\n",
    "model = LinearRegression()\n",
    "model.fit(X_train, y_train)\n",
    "\n",
    "#Predicting on test set\n",
    "y_pred = model.predict(X_test)\n",
    "\n",
    "#Evaluating the model\n",
    "r2 = r2_score(y_test, y_pred)\n",
    "mse = mean_squared_error(y_test, y_pred)\n",
    "\n",
    "print(f\"$R^2$ Score: {r2:.4f}\")\n",
    "print(f\"Mean Squared Error: {mse:.2f}\")"
   ]
  },
  {
   "cell_type": "code",
   "execution_count": 45,
   "id": "6f7ee4e5-1098-4f3d-8496-fd7bb0fd0004",
   "metadata": {},
   "outputs": [
    {
     "data": {
      "image/png": "[encoded data removed]",
      "text/plain": [
       "<Figure size 800x600 with 1 Axes>"
      ]
     },
     "metadata": {},
     "output_type": "display_data"
    }
   ],
   "source": [
    "# Creating a scatter plot\n",
    "plt.figure(figsize = (8,6))\n",
    "sn.scatterplot(x = y_test, y = y_pred, color = \"royalblue\", alpha = 0.7)\n",
    "\n",
    "# Plot the perfect prediction line\n",
    "plt.plot([y_test.min(), y_test.max()], [y_test.min(), y_test.max()], color = \"red\", lw = 2, linestyle = \"--\")\n",
    "\n",
    "#Labels and title\n",
    "plt.xlabel(\"Actual CLV\")\n",
    "plt.ylabel(\"Predicted CLV\")\n",
    "plt.title(\"Actual vs Predicted Customer Lifetime Value (CLV)\")\n",
    "plt.grid(True)\n",
    "plt.tight_layout()\n",
    "\n",
    "plt.show()"
   ]
  },
  {
   "cell_type": "code",
   "execution_count": 46,
   "id": "444b7b58-c0d7-410f-9319-9fd879e2f3f8",
   "metadata": {},
   "outputs": [
    {
     "data": {
      "image/png": "[encoded data removed]",
      "text/plain": [
       "<Figure size 800x600 with 1 Axes>"
      ]
     },
     "metadata": {},
     "output_type": "display_data"
    }
   ],
   "source": [
    "# Creating a scatter plot\n",
    "plt.figure(figsize = (8,6))\n",
    "sn.scatterplot(x = y_test, y = y_pred, color = \"royalblue\", alpha = 0.7)\n",
    "\n",
    "# Plot the perfect prediction line\n",
    "plt.plot([y_test.min(), y_test.max()], [y_test.min(), y_test.max()], color = \"red\", lw = 2, linestyle = \"--\")\n",
    "\n",
    "#Labels and title\n",
    "plt.xlabel(\"Actual CLV\")\n",
    "plt.ylabel(\"Predicted CLV\")\n",
    "plt.title(\"Actual vs Predicted Customer Lifetime Value (CLV)\")\n",
    "plt.grid(True)\n",
    "plt.tight_layout()\n",
    "\n",
    "# Save as PNG\n",
    "plt.savefig(\"actual_vs_predicted_clv.png\", dpi = 300)\n",
    "\n",
    "# Show plot\n",
    "plt.show()"
   ]
  },
  {
   "cell_type": "code",
   "execution_count": 48,
   "id": "c991dfe0-f012-40b7-a8ce-059ec87a4e23",
   "metadata": {},
   "outputs": [],
   "source": [
    "# Save the final RFM dataset to a CSV file\n",
    "rfm.to_csv(\"rfm_clv_segments.csv\", index = False)"
   ]
  },
  {
   "cell_type": "code",
   "execution_count": null,
   "id": "20f39ea9-81ef-4919-9058-f62d2c04f50e",
   "metadata": {},
   "outputs": [],
   "source": []
  }
 ],
 "metadata": {
  "kernelspec": {
   "display_name": "Python 3 (ipykernel)",
   "language": "python",
   "name": "python3"
  },
  "language_info": {
   "codemirror_mode": {
    "name": "ipython",
    "version": 3
   },
   "file_extension": ".py",
   "mimetype": "text/x-python",
   "name": "python",
   "nbconvert_exporter": "python",
   "pygments_lexer": "ipython3",
   "version": "3.12.0"
  }
 },
 "nbformat": 4,
 "nbformat_minor": 5
}
